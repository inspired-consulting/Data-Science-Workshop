{
 "cells": [
  {
   "cell_type": "markdown",
   "metadata": {},
   "source": [
    "## Import libraries using Alias."
   ]
  },
  {
   "cell_type": "code",
   "execution_count": 6,
   "metadata": {},
   "outputs": [],
   "source": [
    "import numpy as np\n",
    "import pandas as pd\n",
    "import seaborn as sns\n",
    "import matplotlib.pyplot as plt\n",
    "%matplotlib inline "
   ]
  },
  {
   "cell_type": "markdown",
   "metadata": {},
   "source": [
    "## Basic Concepts"
   ]
  },
  {
   "cell_type": "markdown",
   "metadata": {},
   "source": [
    "### Types"
   ]
  },
  {
   "cell_type": "code",
   "execution_count": 8,
   "metadata": {},
   "outputs": [
    {
     "name": "stdout",
     "output_type": "stream",
     "text": [
      "<class 'int'>\n",
      "<class 'float'>\n",
      "<class 'float'>\n",
      "<class 'complex'>\n",
      "<class 'str'>\n",
      "<class 'bool'>\n"
     ]
    }
   ],
   "source": [
    "print(type(10))\n",
    "print(type(4.2))\n",
    "print(type(1.8e308))\n",
    "print(type(2+3j))\n",
    "print(type(\"I am a string.\"))\n",
    "print(type(True))"
   ]
  },
  {
   "cell_type": "markdown",
   "metadata": {},
   "source": [
    "### Conditions and Loops"
   ]
  },
  {
   "cell_type": "code",
   "execution_count": 10,
   "metadata": {},
   "outputs": [
    {
     "name": "stdout",
     "output_type": "stream",
     "text": [
      "I am list\n"
     ]
    }
   ],
   "source": [
    "a = 4\n",
    "b = 1\n",
    "if b > a:\n",
    "    print(\"I am integer\")\n",
    "    \n",
    "elif a == b:\n",
    "    print(\"I am string\")\n",
    "    \n",
    "else:\n",
    "    print(\"I am list\")"
   ]
  },
  {
   "cell_type": "code",
   "execution_count": 13,
   "metadata": {},
   "outputs": [
    {
     "name": "stdout",
     "output_type": "stream",
     "text": [
      "3\n",
      "4\n",
      "5\n",
      "6\n"
     ]
    }
   ],
   "source": [
    "i = 3\n",
    "while i < 7:\n",
    "    print(i)\n",
    "    i += 1"
   ]
  },
  {
   "cell_type": "code",
   "execution_count": 18,
   "metadata": {},
   "outputs": [
    {
     "name": "stdout",
     "output_type": "stream",
     "text": [
      "chocolates\n",
      "chips\n",
      "fruits\n"
     ]
    }
   ],
   "source": [
    "Kaufland = [\"chocolates\", \"chips\", \"fruits\", 'banana' ,\"vegetables\", \"biscuits\", \"bread\"]\n",
    "for x in Kaufland:\n",
    "#     print(x)\n",
    "    if x == \"banana\":\n",
    "        break\n",
    "    print(x)"
   ]
  },
  {
   "cell_type": "markdown",
   "metadata": {},
   "source": [
    "### Classes"
   ]
  },
  {
   "cell_type": "code",
   "execution_count": 19,
   "metadata": {},
   "outputs": [
    {
     "name": "stdout",
     "output_type": "stream",
     "text": [
      "Use either : Use 1 Euro or use :1\n"
     ]
    }
   ],
   "source": [
    "#Too Much\n",
    "class Market:\n",
    "    def __init__(self, trolly, basket):\n",
    "        self.trolly = trolly\n",
    "        self.basket = basket\n",
    "\n",
    "    def Kaufland(self):\n",
    "        print(\"Use either : \" + str(self.trolly) + ' or use :' + str(self.basket))\n",
    "\n",
    "p1 = Market(\"Use 1 Euro\", 1)\n",
    "p1.Kaufland()"
   ]
  },
  {
   "cell_type": "markdown",
   "metadata": {},
   "source": [
    "### Tuple, Dictionary and List"
   ]
  },
  {
   "cell_type": "code",
   "execution_count": 20,
   "metadata": {},
   "outputs": [
    {
     "name": "stdout",
     "output_type": "stream",
     "text": [
      "Zawar\n"
     ]
    }
   ],
   "source": [
    "this_is_tuple = ((\"chocolates\", \"chips\", \"fruits\", \"vegetables\", \"biscuits\", \"bread\"),'Zawar')\n",
    "print(this_is_tuple[-1])"
   ]
  },
  {
   "cell_type": "code",
   "execution_count": 21,
   "metadata": {},
   "outputs": [
    {
     "name": "stdout",
     "output_type": "stream",
     "text": [
      "{'City': 'Mittweida', 'State': 'Saxon', 'year': 2020}\n"
     ]
    }
   ],
   "source": [
    "this_is_dict = {\n",
    "  \"City\": \"Mittweida\",\n",
    "  \"State\": \"Saxon\",\n",
    "  \"year\": 2020\n",
    "}\n",
    "print(this_is_dict)"
   ]
  },
  {
   "cell_type": "code",
   "execution_count": 15,
   "metadata": {},
   "outputs": [
    {
     "name": "stdout",
     "output_type": "stream",
     "text": [
      "chocolates\n",
      "chips\n",
      "fruits\n",
      "vegetables\n",
      "biscuits\n",
      "bread\n"
     ]
    }
   ],
   "source": [
    "this_is_list = [\"chocolates\", \"chips\", \"fruits\", \"vegetables\", \"biscuits\", \"bread\"]\n",
    "for x in this_is_list:\n",
    "    print(x)"
   ]
  },
  {
   "cell_type": "markdown",
   "metadata": {},
   "source": [
    "### Exception Handling"
   ]
  },
  {
   "cell_type": "code",
   "execution_count": 22,
   "metadata": {},
   "outputs": [
    {
     "name": "stdout",
     "output_type": "stream",
     "text": [
      "banana\n",
      "finally statement\n"
     ]
    }
   ],
   "source": [
    "try:\n",
    "    print(x)\n",
    "except:\n",
    "    print(\"except statement\")\n",
    "finally:\n",
    "    print(\"finally statement\")"
   ]
  },
  {
   "cell_type": "code",
   "execution_count": null,
   "metadata": {},
   "outputs": [],
   "source": []
  }
 ],
 "metadata": {
  "kernelspec": {
   "display_name": "Python 3",
   "language": "python",
   "name": "python3"
  },
  "language_info": {
   "codemirror_mode": {
    "name": "ipython",
    "version": 3
   },
   "file_extension": ".py",
   "mimetype": "text/x-python",
   "name": "python",
   "nbconvert_exporter": "python",
   "pygments_lexer": "ipython3",
   "version": "3.7.6"
  }
 },
 "nbformat": 4,
 "nbformat_minor": 4
}